{
 "cells": [
  {
   "cell_type": "code",
   "execution_count": 1,
   "metadata": {},
   "outputs": [],
   "source": [
    "import numpy as np\n",
    "import matplotlib.pyplot as plt\n",
    "%matplotlib inline\n",
    "import array\n",
    "import decimal\n",
    "import sys\n",
    "import math\n",
    "from sympy import *"
   ]
  },
  {
   "cell_type": "code",
   "execution_count": 2,
   "metadata": {},
   "outputs": [],
   "source": [
    "#time = np.array([1790, 1800, 1810, 1820, 1830, 1840, 1850, 1860, 1870, 1880, 1890, 1900, 1910, 1920, 1930, 1940, 1950, 1960, 1970, 1980, 1990])\n",
    "time = np.array([0, 10, 20, 30, 40, 50, 60, 70, 80, 90, 100, 110, 120, 130, 140, 150, 160, 170, 180, 190, 200])\n",
    "#time = np.array([0, 1, 2, 3, 4, 5, 6, 7, 8, 9, 10, 11, 12, 13, 14, 15, 16, 17, 18, 19, 20])\n",
    "population = np.array([3.9, 5.3, 7.2, 9.6, 12.9, 17.1, 23.1, 31.4, 38.6, 50.2, 62.9, 76, 92, 105.7, 122.8, 131.7, 150.7, 179, 205, 226.5, 248.7])"
   ]
  },
  {
   "cell_type": "code",
   "execution_count": 3,
   "metadata": {},
   "outputs": [
    {
     "name": "stdout",
     "output_type": "stream",
     "text": [
      "For K = 200, a =  3.9176481800667  b =  -0.031903912608519304\n"
     ]
    }
   ],
   "source": [
    "time_sum = 0\n",
    "for i in range(1, 18):\n",
    "    time_sum += time[i]\n",
    "timeSquared_sum = 0\n",
    "for j in range(1, 18):\n",
    "    timeSquared_sum += (time[j])**2\n",
    "timePop_sum = 0\n",
    "for k in range(1, 18):\n",
    "    timePop_sum += time[k]*(math.log((200 - population[k])/ population[k]))\n",
    "a = math.log((200-population[0])/population[0])\n",
    "b = (timePop_sum - a*time_sum)/(timeSquared_sum)\n",
    "print('For K = 200, a = ', a ,' b = ', b)"
   ]
  },
  {
   "cell_type": "code",
   "execution_count": 4,
   "metadata": {},
   "outputs": [
    {
     "name": "stdout",
     "output_type": "stream",
     "text": [
      "For K = 250, a =  4.144761404261409  b =  -0.02957017753101427\n"
     ]
    }
   ],
   "source": [
    "time_sum = 0\n",
    "for i in range(1, i):\n",
    "    time_sum += time[i]\n",
    "timeSquared_sum = 0\n",
    "for j in range(1, j):\n",
    "    timeSquared_sum += (time[j])**2\n",
    "timePop_sum = 0\n",
    "for k in range(1, k):\n",
    "    timePop_sum += time[k]*(math.log((250 - population[k])/ population[k]))\n",
    "a = math.log((250-population[0])/population[0])\n",
    "b = (timePop_sum - a*time_sum)/(timeSquared_sum)\n",
    "print('For K = 250, a = ', a ,' b = ', b)"
   ]
  },
  {
   "cell_type": "code",
   "execution_count": 5,
   "metadata": {},
   "outputs": [
    {
     "name": "stdout",
     "output_type": "stream",
     "text": [
      "For K = 300, a =  4.329720681971945  b =  -0.029042030378595648\n"
     ]
    }
   ],
   "source": [
    "time_sum = 0\n",
    "for i in range(1, i):\n",
    "    time_sum += time[i]\n",
    "timeSquared_sum = 0\n",
    "for j in range(1, j):\n",
    "    timeSquared_sum += (time[j])**2\n",
    "timePop_sum = 0\n",
    "for k in range(1, k):\n",
    "    timePop_sum += time[k]*(math.log((300 - population[k])/ population[k]))\n",
    "a = math.log((300-population[0])/population[0])\n",
    "b = (timePop_sum - a*time_sum)/(timeSquared_sum)\n",
    "print('For K = 300, a = ', a ,' b = ', b)"
   ]
  },
  {
   "cell_type": "code",
   "execution_count": 6,
   "metadata": {},
   "outputs": [
    {
     "name": "stderr",
     "output_type": "stream",
     "text": [
      "C:\\Users\\samue\\Anaconda3\\lib\\site-packages\\ipykernel_launcher.py:4: RuntimeWarning: invalid value encountered in log\n",
      "  after removing the cwd from sys.path.\n"
     ]
    },
    {
     "data": {
      "image/png": "[encoded data removed]",
      "text/plain": [
       "<Figure size 432x288 with 1 Axes>"
      ]
     },
     "metadata": {
      "needs_background": "light"
     },
     "output_type": "display_data"
    }
   ],
   "source": [
    "def K200():\n",
    "    x = np.array([3.9,5.3,7.2,9.6,12.9,17.1,23.1,31.4,38.6,50.2,62.9,76, 92,105.7,122.8,131.7,150.7,179,205,226.5,248.7])\n",
    "    t= np.array([0,10,20,30,40,50,60,70,80,90,100,110,120,130,140,150,160,170,180,190,200])\n",
    "    y1 = np.log((200-x)/x)\n",
    "    y2 = np.log((250-x)/x)\n",
    "    y3 = np.log((300-x)/x)\n",
    "    plt.xlabel('Time')\n",
    "    plt.ylabel('log((K-x)/x)')    \n",
    "    plt.ylim(-3,5)\n",
    "    plt.xticks([0,20,40,60,80,100,120,140,160,180,200])\n",
    "    plt.plot(t,y1,'o',label='K=200')\n",
    "    plt.plot(t,y2,'o',label='K=250')\n",
    "    plt.plot(t,y3,'o',label='K=300')    \n",
    "    #y4 = math.log((200 - x[0])/x[0]) - 0.031903912608519304*t\n",
    "    #y5 = math.log((250 - x[0])/x[0]) - 0.029788656842136274*t\n",
    "    #y6 = math.log((300 - x[0])/x[0]) - 0.02944371318736155*t\n",
    "    #plt.plot(t,y4,label='y200(t)=a+bt', color = 'blue')\n",
    "    #plt.plot(t,y5,label='y250(t)=a+bt', color = 'orange') \n",
    "    #plt.plot(t,y6,label='y300(t)=a+bt', color = 'green') \n",
    "    plt.legend()\n",
    "    plt.title('Plot log((K-x)/x) as function of t')\n",
    "    plt.show()\n",
    "K200()"
   ]
  }
 ],
 "metadata": {
  "kernelspec": {
   "display_name": "Python 3",
   "language": "python",
   "name": "python3"
  },
  "language_info": {
   "codemirror_mode": {
    "name": "ipython",
    "version": 3
   },
   "file_extension": ".py",
   "mimetype": "text/x-python",
   "name": "python",
   "nbconvert_exporter": "python",
   "pygments_lexer": "ipython3",
   "version": "3.7.4"
  }
 },
 "nbformat": 4,
 "nbformat_minor": 2
}
